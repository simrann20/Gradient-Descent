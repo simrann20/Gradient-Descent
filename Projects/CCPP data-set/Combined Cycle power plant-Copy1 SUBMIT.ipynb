{
 "cells": [
  {
   "cell_type": "code",
   "execution_count": 1,
   "metadata": {},
   "outputs": [],
   "source": [
    "import numpy as np\n",
    "from sklearn import preprocessing "
   ]
  },
  {
   "cell_type": "code",
   "execution_count": 2,
   "metadata": {},
   "outputs": [],
   "source": [
    "def step_grad(x,y,learning_rate,m):\n",
    "    M=len(x)\n",
    "    m_slope=np.zeros(len(x[0]))\n",
    "    for i in range(M):\n",
    "        for j in range(len(m)):\n",
    "            m_slope[j]+=((-2/M)*((y[i]-np.sum(m*x[i,:]))*x[i][j]))\n",
    "            m[j]=m[j]-learning_rate*m_slope[j]\n",
    "    return m "
   ]
  },
  {
   "cell_type": "code",
   "execution_count": 3,
   "metadata": {},
   "outputs": [],
   "source": [
    "def gd(x,y,learning_rate,num_iter):\n",
    "    m=np.zeros(len(x[0]))\n",
    "    for i in range(num_iter):\n",
    "        m=step_grad(x,y,learning_rate,m)\n",
    "        print(i,\"Cost\",cost(x,y,m))\n",
    "    return m "
   ]
  },
  {
   "cell_type": "code",
   "execution_count": 4,
   "metadata": {},
   "outputs": [],
   "source": [
    "def cost(x,y,m):\n",
    "    tot_cost=0\n",
    "    M=len(x)\n",
    "    for i in range(M):\n",
    "        tot_cost+=(1/M)*(y[i]-np.sum(m*x[i,:]))**2\n",
    "    return tot_cost"
   ]
  },
  {
   "cell_type": "code",
   "execution_count": 25,
   "metadata": {},
   "outputs": [],
   "source": [
    "def run():\n",
    "    Train_data=np.genfromtxt(\"C:\\\\Users\\\\Simrann\\\\Downloads\\\\0000000000002419_training_ccpp_x_y_train.csv\",delimiter=\",\")\n",
    "    Test_data=np.genfromtxt(\"C:\\\\Users\\\\Simrann\\\\Downloads\\\\0000000000002419_test_ccpp_x_test.csv\",delimiter=\",\")\n",
    "    X_train=Train_data[:,0:4]\n",
    "    Y_train=Train_data[:,4]\n",
    "    scaler= preprocessing.StandardScaler()\n",
    "    scaler.fit(X_train)\n",
    "    X_train=scaler.transform(X_train)\n",
    "    X_train=np.insert(X_train,4,1,axis=1)\n",
    "    X_test = scaler.transform(Test_data)\n",
    "    X_test=np.insert(X_test,4,1,axis=1)\n",
    "    learning_rate=0.0001\n",
    "    num_iter=100\n",
    "    m = gd(X_train,Y_train,learning_rate,num_iter)\n",
    "    print(m)\n",
    "    ypred=X_test.dot(m)\n",
    "    print(ypred)\n",
    "    ypred=np.savetxt(\"predictionsCCpp.csv\",ypred,fmt='%f',delimiter=\",\")"
   ]
  },
  {
   "cell_type": "code",
   "execution_count": 26,
   "metadata": {},
   "outputs": [
    {
     "name": "stdout",
     "output_type": "stream",
     "text": [
      "0 Cost 27422.38320166465\n",
      "1 Cost 3661.7397784482405\n",
      "2 Cost 509.41528221003523\n",
      "3 Cost 90.67908014074537\n",
      "4 Cost 34.365411868150254\n",
      "5 Cost 26.29751328739345\n",
      "6 Cost 24.71081181650169\n",
      "7 Cost 24.063351862784852\n",
      "8 Cost 23.60278231523233\n",
      "9 Cost 23.220902136986968\n",
      "10 Cost 22.8949472675068\n",
      "11 Cost 22.615381244613584\n",
      "12 Cost 22.37530637365208\n",
      "13 Cost 22.169075471573226\n",
      "14 Cost 21.991889863062873\n",
      "15 Cost 21.839652429389364\n",
      "16 Cost 21.708851390867146\n",
      "17 Cost 21.59647335665922\n",
      "18 Cost 21.499930130409894\n",
      "19 Cost 21.416997755925017\n",
      "20 Cost 21.345764693051855\n",
      "21 Cost 21.28458767407574\n",
      "22 Cost 21.232053921821837\n",
      "23 Cost 21.18694876426993\n",
      "24 Cost 21.148227836391026\n",
      "25 Cost 21.11499320332639\n",
      "26 Cost 21.086472841718656\n",
      "27 Cost 21.062003001749844\n",
      "28 Cost 21.041013042440028\n",
      "29 Cost 21.023012391727388\n",
      "30 Cost 21.00757933266221\n",
      "31 Cost 20.99435135945881\n",
      "32 Cost 20.983016883354896\n",
      "33 Cost 20.973308099223303\n",
      "34 Cost 20.96499485043876\n",
      "35 Cost 20.95787935231167\n",
      "36 Cost 20.951791653970023\n",
      "37 Cost 20.946585735389473\n",
      "38 Cost 20.942136150739504\n",
      "39 Cost 20.93833514162841\n",
      "40 Cost 20.93509015452765\n",
      "41 Cost 20.932321705844238\n",
      "42 Cost 20.929961546009373\n",
      "43 Cost 20.927951080760437\n",
      "44 Cost 20.9262400136315\n",
      "45 Cost 20.92478517870301\n",
      "46 Cost 20.923549536990617\n",
      "47 Cost 20.92250131356935\n",
      "48 Cost 20.921613255736666\n",
      "49 Cost 20.920861995270972\n",
      "50 Cost 20.92022750020878\n",
      "51 Cost 20.91969260360641\n",
      "52 Cost 20.91924259850449\n",
      "53 Cost 20.918864889817133\n",
      "54 Cost 20.918548695172458\n",
      "55 Cost 20.918284787841454\n",
      "56 Cost 20.918065275854836\n",
      "57 Cost 20.917883412234065\n",
      "58 Cost 20.917733431968514\n",
      "59 Cost 20.91761041199016\n",
      "60 Cost 20.91751015091083\n",
      "61 Cost 20.917429065755364\n",
      "62 Cost 20.917364103292254\n",
      "63 Cost 20.917312663920015\n",
      "64 Cost 20.917272536335428\n",
      "65 Cost 20.917241841470975\n",
      "66 Cost 20.917218984396577\n",
      "67 Cost 20.91720261306035\n",
      "68 Cost 20.917191582907222\n",
      "69 Cost 20.917184926545286\n",
      "70 Cost 20.91718182774592\n",
      "71 Cost 20.917181599168075\n",
      "72 Cost 20.917183663276745\n",
      "73 Cost 20.917187536005983\n",
      "74 Cost 20.917192812775003\n",
      "75 Cost 20.917199156525662\n",
      "76 Cost 20.917206287493702\n",
      "77 Cost 20.917213974465216\n",
      "78 Cost 20.91722202730824\n",
      "79 Cost 20.917230290599434\n",
      "80 Cost 20.91723863818376\n",
      "81 Cost 20.917246968539015\n",
      "82 Cost 20.917255200827217\n",
      "83 Cost 20.91726327153404\n",
      "84 Cost 20.917271131612324\n",
      "85 Cost 20.91727874405482\n",
      "86 Cost 20.917286081837673\n",
      "87 Cost 20.91729312617642\n",
      "88 Cost 20.917299865051326\n",
      "89 Cost 20.917306291963072\n",
      "90 Cost 20.91731240488285\n",
      "91 Cost 20.91731820537006\n",
      "92 Cost 20.917323697831268\n",
      "93 Cost 20.91732888890083\n",
      "94 Cost 20.917333786923233\n",
      "95 Cost 20.917338401523573\n",
      "96 Cost 20.91734274325085\n",
      "97 Cost 20.917346823285495\n",
      "98 Cost 20.91735065319747\n",
      "99 Cost 20.91735424475144\n",
      "[-1.49068551e+01 -2.84188894e+00  3.60618609e-01 -2.38395029e+00\n",
      "  4.54457526e+02]\n",
      "[469.89492616 471.70587607 433.93359445 ... 439.15088872 450.66016405\n",
      " 447.29928392]\n"
     ]
    }
   ],
   "source": [
    "run()"
   ]
  },
  {
   "cell_type": "code",
   "execution_count": null,
   "metadata": {},
   "outputs": [],
   "source": []
  },
  {
   "cell_type": "code",
   "execution_count": null,
   "metadata": {},
   "outputs": [],
   "source": []
  },
  {
   "cell_type": "code",
   "execution_count": null,
   "metadata": {},
   "outputs": [],
   "source": []
  },
  {
   "cell_type": "code",
   "execution_count": null,
   "metadata": {},
   "outputs": [],
   "source": []
  },
  {
   "cell_type": "code",
   "execution_count": null,
   "metadata": {},
   "outputs": [],
   "source": []
  },
  {
   "cell_type": "code",
   "execution_count": null,
   "metadata": {},
   "outputs": [],
   "source": []
  },
  {
   "cell_type": "code",
   "execution_count": null,
   "metadata": {},
   "outputs": [],
   "source": []
  },
  {
   "cell_type": "code",
   "execution_count": null,
   "metadata": {},
   "outputs": [],
   "source": []
  },
  {
   "cell_type": "code",
   "execution_count": null,
   "metadata": {},
   "outputs": [],
   "source": []
  },
  {
   "cell_type": "code",
   "execution_count": null,
   "metadata": {},
   "outputs": [],
   "source": []
  }
 ],
 "metadata": {
  "kernelspec": {
   "display_name": "Python 3",
   "language": "python",
   "name": "python3"
  },
  "language_info": {
   "codemirror_mode": {
    "name": "ipython",
    "version": 3
   },
   "file_extension": ".py",
   "mimetype": "text/x-python",
   "name": "python",
   "nbconvert_exporter": "python",
   "pygments_lexer": "ipython3",
   "version": "3.7.3"
  }
 },
 "nbformat": 4,
 "nbformat_minor": 2
}
