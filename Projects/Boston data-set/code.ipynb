{
 "cells": [
  {
   "cell_type": "code",
   "execution_count": 16,
   "metadata": {},
   "outputs": [],
   "source": [
    "def oneloop(x,y,m,LR):\n",
    "    M=len(x)\n",
    "    for j in range(len(m)):\n",
    "        m_slope=0\n",
    "        for i in range(M):\n",
    "            sum=0\n",
    "            for k in range(len(m)):\n",
    "                sum+=x[i][k]*m[k]\n",
    "            m_slope+=(-2/M)*((y[i]-sum)*x[i][j])\n",
    "            m[j]=m[j]-LR*m_slope\n",
    "    \n",
    "    #m = m - LR * m_slope\n",
    "    #c = c - LR * c_slope\n",
    "\n",
    "def cost(x,y,m):\n",
    "    M=len(x)\n",
    "    cost1=0\n",
    "    for i in range(M):\n",
    "        sum=0\n",
    "        for j in range(len(m)):\n",
    "            sum+=m[j]*x[i][j]\n",
    "        cost1+=(1/M)*((y[i]-sum)**2)\n",
    "    return cost1\n",
    "\n",
    "def gradientcode(x,y,m):\n",
    "    num_iterations=1000\n",
    "    Learning_rate=0.0000996\n",
    "    total_cost=0\n",
    "    for i in range(num_iterations):\n",
    "        oneloop(x,y,m,Learning_rate)\n",
    "        print(cost(x,y,m))\n",
    "        total_cost+=cost(x,y,m)\n",
    "    print(total_cost)\n",
    "\n",
    "def calculate(x,m):\n",
    "    y=[]\n",
    "    for i in range(len(x)):\n",
    "        sum=0\n",
    "        for j in range(len(m)):\n",
    "            sum+=m[j]*x[i][j]\n",
    "        y.append(sum)\n",
    "    return y"
   ]
  },
  {
   "cell_type": "code",
   "execution_count": 17,
   "metadata": {},
   "outputs": [],
   "source": [
    "def run():\n",
    "    import numpy as np\n",
    "    data=np.genfromtxt(\"C:\\\\Users\\\\Simrann\\\\Downloads\\\\0000000000002417_training_boston_x_y_train.csv\",delimiter=\",\")\n",
    "    x=data[:,0:13]\n",
    "    y=data[:,13]\n",
    "    for i in range(13):\n",
    "        \n",
    "        for j in range(i,13):\n",
    "            a=[[0 for j in range(1)] for i in range(x.shape[0])]\n",
    "            for k in range(x.shape[0]):\n",
    "                a[k][0]=x[k][i]*x[k][j]\n",
    "            x=np.append(x,a,axis=1)\n",
    "            \n",
    "    intercept=[[1 for j in range(1)] for i in range(x.shape[0])]\n",
    "    x=np.append(x,intercept,axis=1)\n",
    "    m=np.zeros(105)\n",
    "    print(x.shape)\n",
    "    gradientcode(x,y,m)\n",
    "    \n",
    "    data1=np.genfromtxt(\"C:\\\\Users\\\\Simrann\\\\Downloads\\\\0000000000002417_test_boston_x_test.csv\",delimiter=\",\")\n",
    "    xtest=data1[:,:]\n",
    "    \n",
    "    for i in range(13):\n",
    "            for j in range(i,13):\n",
    "                \n",
    "                a=[ [0 for j in range(1)] for i in range(xtest.shape[0])]\n",
    "        \n",
    "                for k in range(xtest.shape[0]):\n",
    "                    a[k][0]=xtest[k][i]*xtest[k][j]\n",
    "            \n",
    "                xtest=np.append(xtest,a,axis=1)\n",
    "    \n",
    "    intercept=[[1 for j in range(1)] for i in range(xtest.shape[0])]\n",
    "    xtest=np.append(xtest,intercept,axis=1)\n",
    "    \n",
    "    print(xtest.shape,m.shape)\n",
    "    y_pred=calculate(xtest,m)\n",
    "    np.savetxt(\"PREDD.csv\", y_pred, delimiter=\",\",fmt='%.12f')\n",
    "    print(y_pred)\n",
    "    print(m)"
   ]
  },
  {
   "cell_type": "code",
   "execution_count": 18,
   "metadata": {},
   "outputs": [
    {
     "name": "stdout",
     "output_type": "stream",
     "text": [
      "(379, 105)\n",
      "270.24650907714465\n",
      "193.53761333063272\n",
      "160.07760907657646\n",
      "134.92019763596807\n",
      "116.65338395839356\n",
      "102.61573546672706\n",
      "91.74515062853895\n",
      "83.12933925700338\n",
      "76.21389433326742\n",
      "70.5788176671149\n",
      "65.92807151066273\n",
      "62.04015333512926\n",
      "58.75066810354855\n"
     ]
    },
    {
     "ename": "KeyboardInterrupt",
     "evalue": "",
     "output_type": "error",
     "traceback": [
      "\u001b[1;31m---------------------------------------------------------------------------\u001b[0m",
      "\u001b[1;31mKeyboardInterrupt\u001b[0m                         Traceback (most recent call last)",
      "\u001b[1;32m<ipython-input-18-ec9775ede022>\u001b[0m in \u001b[0;36m<module>\u001b[1;34m\u001b[0m\n\u001b[1;32m----> 1\u001b[1;33m \u001b[0mrun\u001b[0m\u001b[1;33m(\u001b[0m\u001b[1;33m)\u001b[0m\u001b[1;33m\u001b[0m\u001b[1;33m\u001b[0m\u001b[0m\n\u001b[0m",
      "\u001b[1;32m<ipython-input-17-c1500bb1a77f>\u001b[0m in \u001b[0;36mrun\u001b[1;34m()\u001b[0m\n\u001b[0;32m     16\u001b[0m     \u001b[0mm\u001b[0m\u001b[1;33m=\u001b[0m\u001b[0mnp\u001b[0m\u001b[1;33m.\u001b[0m\u001b[0mzeros\u001b[0m\u001b[1;33m(\u001b[0m\u001b[1;36m105\u001b[0m\u001b[1;33m)\u001b[0m\u001b[1;33m\u001b[0m\u001b[1;33m\u001b[0m\u001b[0m\n\u001b[0;32m     17\u001b[0m     \u001b[0mprint\u001b[0m\u001b[1;33m(\u001b[0m\u001b[0mx\u001b[0m\u001b[1;33m.\u001b[0m\u001b[0mshape\u001b[0m\u001b[1;33m)\u001b[0m\u001b[1;33m\u001b[0m\u001b[1;33m\u001b[0m\u001b[0m\n\u001b[1;32m---> 18\u001b[1;33m     \u001b[0mgradientcode\u001b[0m\u001b[1;33m(\u001b[0m\u001b[0mx\u001b[0m\u001b[1;33m,\u001b[0m\u001b[0my\u001b[0m\u001b[1;33m,\u001b[0m\u001b[0mm\u001b[0m\u001b[1;33m)\u001b[0m\u001b[1;33m\u001b[0m\u001b[1;33m\u001b[0m\u001b[0m\n\u001b[0m\u001b[0;32m     19\u001b[0m \u001b[1;33m\u001b[0m\u001b[0m\n\u001b[0;32m     20\u001b[0m     \u001b[0mdata1\u001b[0m\u001b[1;33m=\u001b[0m\u001b[0mnp\u001b[0m\u001b[1;33m.\u001b[0m\u001b[0mgenfromtxt\u001b[0m\u001b[1;33m(\u001b[0m\u001b[1;34m\"C:\\\\Users\\\\Simrann\\\\Downloads\\\\0000000000002417_test_boston_x_test.csv\"\u001b[0m\u001b[1;33m,\u001b[0m\u001b[0mdelimiter\u001b[0m\u001b[1;33m=\u001b[0m\u001b[1;34m\",\"\u001b[0m\u001b[1;33m)\u001b[0m\u001b[1;33m\u001b[0m\u001b[1;33m\u001b[0m\u001b[0m\n",
      "\u001b[1;32m<ipython-input-16-8217f1d30389>\u001b[0m in \u001b[0;36mgradientcode\u001b[1;34m(x, y, m)\u001b[0m\n\u001b[0;32m     28\u001b[0m     \u001b[0mtotal_cost\u001b[0m\u001b[1;33m=\u001b[0m\u001b[1;36m0\u001b[0m\u001b[1;33m\u001b[0m\u001b[1;33m\u001b[0m\u001b[0m\n\u001b[0;32m     29\u001b[0m     \u001b[1;32mfor\u001b[0m \u001b[0mi\u001b[0m \u001b[1;32min\u001b[0m \u001b[0mrange\u001b[0m\u001b[1;33m(\u001b[0m\u001b[0mnum_iterations\u001b[0m\u001b[1;33m)\u001b[0m\u001b[1;33m:\u001b[0m\u001b[1;33m\u001b[0m\u001b[1;33m\u001b[0m\u001b[0m\n\u001b[1;32m---> 30\u001b[1;33m         \u001b[0moneloop\u001b[0m\u001b[1;33m(\u001b[0m\u001b[0mx\u001b[0m\u001b[1;33m,\u001b[0m\u001b[0my\u001b[0m\u001b[1;33m,\u001b[0m\u001b[0mm\u001b[0m\u001b[1;33m,\u001b[0m\u001b[0mLearning_rate\u001b[0m\u001b[1;33m)\u001b[0m\u001b[1;33m\u001b[0m\u001b[1;33m\u001b[0m\u001b[0m\n\u001b[0m\u001b[0;32m     31\u001b[0m         \u001b[0mprint\u001b[0m\u001b[1;33m(\u001b[0m\u001b[0mcost\u001b[0m\u001b[1;33m(\u001b[0m\u001b[0mx\u001b[0m\u001b[1;33m,\u001b[0m\u001b[0my\u001b[0m\u001b[1;33m,\u001b[0m\u001b[0mm\u001b[0m\u001b[1;33m)\u001b[0m\u001b[1;33m)\u001b[0m\u001b[1;33m\u001b[0m\u001b[1;33m\u001b[0m\u001b[0m\n\u001b[0;32m     32\u001b[0m         \u001b[0mtotal_cost\u001b[0m\u001b[1;33m+=\u001b[0m\u001b[0mcost\u001b[0m\u001b[1;33m(\u001b[0m\u001b[0mx\u001b[0m\u001b[1;33m,\u001b[0m\u001b[0my\u001b[0m\u001b[1;33m,\u001b[0m\u001b[0mm\u001b[0m\u001b[1;33m)\u001b[0m\u001b[1;33m\u001b[0m\u001b[1;33m\u001b[0m\u001b[0m\n",
      "\u001b[1;32m<ipython-input-16-8217f1d30389>\u001b[0m in \u001b[0;36moneloop\u001b[1;34m(x, y, m, LR)\u001b[0m\n\u001b[0;32m      6\u001b[0m             \u001b[0msum\u001b[0m\u001b[1;33m=\u001b[0m\u001b[1;36m0\u001b[0m\u001b[1;33m\u001b[0m\u001b[1;33m\u001b[0m\u001b[0m\n\u001b[0;32m      7\u001b[0m             \u001b[1;32mfor\u001b[0m \u001b[0mk\u001b[0m \u001b[1;32min\u001b[0m \u001b[0mrange\u001b[0m\u001b[1;33m(\u001b[0m\u001b[0mlen\u001b[0m\u001b[1;33m(\u001b[0m\u001b[0mm\u001b[0m\u001b[1;33m)\u001b[0m\u001b[1;33m)\u001b[0m\u001b[1;33m:\u001b[0m\u001b[1;33m\u001b[0m\u001b[1;33m\u001b[0m\u001b[0m\n\u001b[1;32m----> 8\u001b[1;33m                 \u001b[0msum\u001b[0m\u001b[1;33m+=\u001b[0m\u001b[0mx\u001b[0m\u001b[1;33m[\u001b[0m\u001b[0mi\u001b[0m\u001b[1;33m]\u001b[0m\u001b[1;33m[\u001b[0m\u001b[0mk\u001b[0m\u001b[1;33m]\u001b[0m\u001b[1;33m*\u001b[0m\u001b[0mm\u001b[0m\u001b[1;33m[\u001b[0m\u001b[0mk\u001b[0m\u001b[1;33m]\u001b[0m\u001b[1;33m\u001b[0m\u001b[1;33m\u001b[0m\u001b[0m\n\u001b[0m\u001b[0;32m      9\u001b[0m             \u001b[0mm_slope\u001b[0m\u001b[1;33m+=\u001b[0m\u001b[1;33m(\u001b[0m\u001b[1;33m-\u001b[0m\u001b[1;36m2\u001b[0m\u001b[1;33m/\u001b[0m\u001b[0mM\u001b[0m\u001b[1;33m)\u001b[0m\u001b[1;33m*\u001b[0m\u001b[1;33m(\u001b[0m\u001b[1;33m(\u001b[0m\u001b[0my\u001b[0m\u001b[1;33m[\u001b[0m\u001b[0mi\u001b[0m\u001b[1;33m]\u001b[0m\u001b[1;33m-\u001b[0m\u001b[0msum\u001b[0m\u001b[1;33m)\u001b[0m\u001b[1;33m*\u001b[0m\u001b[0mx\u001b[0m\u001b[1;33m[\u001b[0m\u001b[0mi\u001b[0m\u001b[1;33m]\u001b[0m\u001b[1;33m[\u001b[0m\u001b[0mj\u001b[0m\u001b[1;33m]\u001b[0m\u001b[1;33m)\u001b[0m\u001b[1;33m\u001b[0m\u001b[1;33m\u001b[0m\u001b[0m\n\u001b[0;32m     10\u001b[0m             \u001b[0mm\u001b[0m\u001b[1;33m[\u001b[0m\u001b[0mj\u001b[0m\u001b[1;33m]\u001b[0m\u001b[1;33m=\u001b[0m\u001b[0mm\u001b[0m\u001b[1;33m[\u001b[0m\u001b[0mj\u001b[0m\u001b[1;33m]\u001b[0m\u001b[1;33m-\u001b[0m\u001b[0mLR\u001b[0m\u001b[1;33m*\u001b[0m\u001b[0mm_slope\u001b[0m\u001b[1;33m\u001b[0m\u001b[1;33m\u001b[0m\u001b[0m\n",
      "\u001b[1;31mKeyboardInterrupt\u001b[0m: "
     ]
    }
   ],
   "source": [
    "run()"
   ]
  }
 ],
 "metadata": {
  "kernelspec": {
   "display_name": "Python 3",
   "language": "python",
   "name": "python3"
  },
  "language_info": {
   "codemirror_mode": {
    "name": "ipython",
    "version": 3
   },
   "file_extension": ".py",
   "mimetype": "text/x-python",
   "name": "python",
   "nbconvert_exporter": "python",
   "pygments_lexer": "ipython3",
   "version": "3.7.3"
  }
 },
 "nbformat": 4,
 "nbformat_minor": 2
}
